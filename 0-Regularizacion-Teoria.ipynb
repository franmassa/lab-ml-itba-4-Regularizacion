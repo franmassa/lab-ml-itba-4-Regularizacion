{
 "cells": [
  {
   "cell_type": "markdown",
   "metadata": {},
   "source": [
    "Videos recomendados:\n",
    "- Batch vs SGD: https://youtu.be/2p58rVgqsgo\n",
    "- Mini-batch size: https://youtu.be/GrrO1NFxaW8\n",
    "- Number of hidden units: https://youtu.be/IkGAIQH5wH8\n",
    "- Learning rate: https://youtu.be/TwJ8aSZoh2U\n",
    "- Learning rate 2: https://youtu.be/HLMjeDez7ps\n",
    "- Overfitting: https://youtu.be/EeBZpb-PSac\n",
    "- Overfitting 2: https://youtu.be/SVqEgaT1lXU\n",
    "- Early Stopping: https://youtu.be/NnS0FJyVcDQ\n",
    "- Regularization: https://youtu.be/aX_m9iyK3Ac\n",
    "- Dropout: https://youtu.be/Ty6K6YiGdBs\n",
    "- Dropout 2: https://youtu.be/6DcImJS8uV8\n",
    "- Dropout 3: https://youtu.be/8nG8zzJMbZw\n",
    "- Vanishing gradient: https://youtu.be/W_JJm_5syFw\n",
    "- Other activatin functions: https://youtu.be/VzGOR5SlFSw\n",
    "- Local minima: https://youtu.be/gF_sW_nY-xw\n",
    "- Random restart: https://youtu.be/idyBBCzXiqg\n",
    "- Momentum: https://youtu.be/r-rYz_PEWC8"
   ]
  },
  {
   "cell_type": "markdown",
   "metadata": {},
   "source": [
    "# Overfitting en clasificación\n",
    "<img src=\"images/classif_overfitting.png\" alt=\"Drawing\" style=\"width:60%;\"/>"
   ]
  },
  {
   "cell_type": "markdown",
   "metadata": {},
   "source": [
    "# Overfitting en regresión\n",
    "<img src=\"images/regress_overfitting.png\" alt=\"Drawing\" style=\"width:70%; \"/>"
   ]
  },
  {
   "cell_type": "markdown",
   "metadata": {},
   "source": [
    "# ¿Como se mide la performance de un algoritmo de apredizaje?\n",
    "(Loss function, Objective function)\n"
   ]
  },
  {
   "cell_type": "markdown",
   "metadata": {},
   "source": [
    "# <center>Regresion lineal (Media de error cuadratico): </center>\n",
    "<center>$J(\\theta) = \\frac{1}{2m}\\sum{_{i=1}^m[h_\\theta(x^{(i)})-y^{(i)}]^2}$</center>\n",
    "\n",
    "<center>$L = \\sum{_{i=1}^n[f(x_i; w)-y_i]^2}$</center>\n",
    "# <center>Regresion logistica (Clasificacion, Cross-entropy):</center>\n",
    "<center>$J(\\theta) = -\\frac{1}{m}[\\sum{_{i=1}^my^{(i)}logh_\\theta(x^{(i)}) + (1-y^{(i)})log(1-h_\\theta(x^{(i)}))}]$</center>\n",
    "# <center>Redes neuronales (Para clasificación):</center>\n",
    "<center>$J(\\theta) = -\\frac{1}{m}[\\sum{_{i=1}^m\\sum{_{k=1}^K}y_k^{(i)}logh_\\theta(x^{(i)})_k + (1-y_k^{(i)})log(1-h_\\theta(x^{(i)})_k)}]$</center>\n",
    "\n",
    "# <center>¿Cual es la $h_\\theta(x^{(i)})$ en cada caso?</center>\n",
    "\n",
    "# <center>Para simplifaciar escribiremos la función de esta forma en general:<center>\n",
    "<center>$\\huge L = ||\\hat{y}-y_i||^2$</center>"
   ]
  },
  {
   "cell_type": "markdown",
   "metadata": {},
   "source": [
    "# Notacion:\n",
    "- $J(\\theta)$ ó $L$: Loss function, objective function, cost function\n",
    "- $x^{(i)}$: Mediciones, variables independientes, features, covariates. Es un vector de dimensión $d$, cada $i$ indica una medición diferente\n",
    "- $y^{(i)}$: Salida, etiqueta, label, target. La salida $i$-esima corresponde a la entrada $i$-esima\n",
    "- $m$ ó $n$: Cantidad de mediciones\n",
    "- $\\theta$ ó $w$: Parametros a estimar. Son un total de $d+1$\n",
    "- $h_{\\theta}(x^{(i)})$ ó $f(x_i;w)$: Salida de mi estimador\n",
    "- $K$: Cantidad de salidas de la red neuronal"
   ]
  },
  {
   "cell_type": "markdown",
   "metadata": {},
   "source": [
    "# Soluciones al overfitting\n",
    "- Aumentar el tamaño del dataset: Buscar más datos o generarlo en forma artificial (Data augmentation)\n",
    "- Reducir la cantidad de parametros\n",
    "- Regularización\n",
    "- Dropout (Solo para redes neuronales)"
   ]
  },
  {
   "cell_type": "markdown",
   "metadata": {},
   "source": [
    "# Regularización"
   ]
  },
  {
   "cell_type": "markdown",
   "metadata": {},
   "source": [
    "$$ \\huge L = ||\\hat{y}-y_i||^2 + \\lambda g(w)$$"
   ]
  },
  {
   "cell_type": "markdown",
   "metadata": {},
   "source": [
    "donde:\n",
    "\n",
    "$\\lambda > 0$ y $g(w)$ una funcion que penalizara ciertos valores de $w$\n",
    "\n",
    "** Nota importante**: Normalmente estos modelos requieren normalización "
   ]
  },
  {
   "cell_type": "markdown",
   "metadata": {},
   "source": [
    "Ejemplo video Udacity:\n",
    "https://youtu.be/aX_m9iyK3Ac\n",
    "<img src=\"images/overfitting2points.png\" alt=\"Drawing\" style=\"width:60%;\"/>"
   ]
  },
  {
   "cell_type": "markdown",
   "metadata": {},
   "source": [
    "## Ridge regression -L2 regularization-\n",
    "- Restringe los valores altos de $w$ todos por igual ($0.5^2 + 0.5^2 < 1^2+0^2$)\n",
    "- Se pude demostrar que es un estimador polarizado de los w's, pero posee menor varianza que simplemente minimizar L\n",
    "- $g(w) = \\|w\\|^2$ "
   ]
  },
  {
   "cell_type": "markdown",
   "metadata": {},
   "source": [
    "## LASSO (Least Absolute Shrinkage and Selection Operator) -L1 regularization- \n",
    "- Selector de parametros (Feature selection) - Puede tratar los pesos en forma independiente. Cuando un peso es cero, No importa la relación con el resto como en L2. Sí depende de la función de costo\n",
    "- $g(w) = \\|w\\|^2$ \n",
    "- Sparse solution"
   ]
  },
  {
   "cell_type": "markdown",
   "metadata": {},
   "source": [
    "## ElasticNet\n",
    "-  Combinacion de L1 y L2"
   ]
  },
  {
   "cell_type": "markdown",
   "metadata": {},
   "source": [
    "## Sparcity y LO regularization:\n",
    "\n",
    "$w_{RR} = arg \\min\\| \\hat{y}-y_i \\|^2 + \\lambda \\|w\\|^d$\n",
    "\n",
    "- L0 cuenta la cantidad de $w$'s distinto de cero (d=0)\n",
    "- Si d esta entre 0 y 1 aumenta la esparcibidad (sparsity) pero la funcion de costo no es convexa"
   ]
  },
  {
   "cell_type": "code",
   "execution_count": null,
   "metadata": {
    "collapsed": true
   },
   "outputs": [],
   "source": []
  }
 ],
 "metadata": {
  "kernelspec": {
   "display_name": "Python 3",
   "language": "python",
   "name": "python3"
  },
  "language_info": {
   "codemirror_mode": {
    "name": "ipython",
    "version": 3
   },
   "file_extension": ".py",
   "mimetype": "text/x-python",
   "name": "python",
   "nbconvert_exporter": "python",
   "pygments_lexer": "ipython3",
   "version": "3.6.2"
  },
  "toc": {
   "nav_menu": {},
   "number_sections": true,
   "sideBar": true,
   "skip_h1_title": true,
   "toc_cell": false,
   "toc_position": {},
   "toc_section_display": "block",
   "toc_window_display": false
  }
 },
 "nbformat": 4,
 "nbformat_minor": 2
}
